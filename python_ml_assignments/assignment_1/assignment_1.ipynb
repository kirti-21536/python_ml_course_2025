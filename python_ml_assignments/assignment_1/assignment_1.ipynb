{
 "cells": [
  {
   "cell_type": "markdown",
   "id": "ec10e477",
   "metadata": {},
   "source": [
    "Q1-Make a custom exception\n"
   ]
  },
  {
   "cell_type": "code",
   "execution_count": 1,
   "id": "39da0308",
   "metadata": {},
   "outputs": [
    {
     "name": "stdout",
     "output_type": "stream",
     "text": [
      "Error: Cannot withdraw $1500 - only $1000 available.\n"
     ]
    }
   ],
   "source": [
    "# defining custom exception\n",
    "class InsufficientFundsError(Exception):\n",
    "    def __init__(self, message=\"You don't have enough balance to withdraw!\"):\n",
    "        super().__init__(message)\n",
    "\n",
    "# creating a simple Bank class\n",
    "class BankAccount:\n",
    "    def __init__(self, balance):\n",
    "        self.balance = balance\n",
    "\n",
    "    def withdraw(self, amount):\n",
    "        if amount > self.balance:\n",
    "            raise InsufficientFundsError(\"Cannot withdraw ${} - only ${} available.\".format(amount, self.balance))\n",
    "        else:\n",
    "            self.balance -= amount\n",
    "            print(\"Withdrawal successful! Remaining balance: ${}\".format(self.balance))\n",
    "\n",
    "try:\n",
    "    account = BankAccount(1000)   # $1000 in bank\n",
    "    account.withdraw(1500)        # $1500 withdrawn\n",
    "except InsufficientFundsError as e:\n",
    "    print(\"Error:\", e)\n"
   ]
  },
  {
   "cell_type": "markdown",
   "id": "59773c87",
   "metadata": {},
   "source": [
    "Q2-Make a 2-d array and read and write it in a csv format"
   ]
  },
  {
   "cell_type": "code",
   "execution_count": 3,
   "id": "777d8cd6",
   "metadata": {},
   "outputs": [
    {
     "name": "stdout",
     "output_type": "stream",
     "text": [
      "Data written to people.csv\n",
      "['Name', 'Age', 'City']\n",
      "['Alia', '22', 'Delhi']\n",
      "['Bhanu', '21', 'Mumbai']\n",
      "['Dino', '23', 'Kashmir']\n"
     ]
    }
   ],
   "source": [
    "import csv\n",
    " \n",
    "data = [\n",
    "    [\"Name\", \"Age\", \"City\"],\n",
    "    [\"Alia\", 22, \"Delhi\"],\n",
    "    [\"Bhanu\", 21, \"Mumbai\"],\n",
    "    [\"Dino\", 23, \"Kashmir\"]\n",
    "]\n",
    "# writing data in csv file\n",
    "with open(\"people.csv\", mode=\"w\", newline=\"\") as file:\n",
    "    writer = csv.writer(file)\n",
    "    writer.writerows(data)  \n",
    "\n",
    "print(\"Data written to people.csv\")\n",
    "# reading the data\n",
    "with open(\"people.csv\", mode=\"r\") as file:\n",
    "    reader = csv.reader(file)\n",
    "    for row in reader:\n",
    "        print(row)\n"
   ]
  }
 ],
 "metadata": {
  "kernelspec": {
   "display_name": "Python 3",
   "language": "python",
   "name": "python3"
  },
  "language_info": {
   "codemirror_mode": {
    "name": "ipython",
    "version": 3
   },
   "file_extension": ".py",
   "mimetype": "text/x-python",
   "name": "python",
   "nbconvert_exporter": "python",
   "pygments_lexer": "ipython3",
   "version": "3.12.3"
  }
 },
 "nbformat": 4,
 "nbformat_minor": 5
}
