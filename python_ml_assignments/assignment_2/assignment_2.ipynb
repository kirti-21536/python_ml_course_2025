{
 "cells": [
  {
   "cell_type": "markdown",
   "id": "c4a3352f",
   "metadata": {},
   "source": [
    "Numpy Questions"
   ]
  },
  {
   "cell_type": "markdown",
   "id": "ee784725",
   "metadata": {},
   "source": [
    "Task 1: Creating Arrays"
   ]
  },
  {
   "cell_type": "markdown",
   "id": "42a86c4b",
   "metadata": {},
   "source": [
    "\n",
    "1. Write a Python program to:\n",
    "--> Create a 1D NumPy array of 10 integers ranging from 1 to 10.\n",
    "--> Create a 2D NumPy array of shape (3, 3) with integers from 1 to 9.\n",
    "--> Create a 3D NumPy array with random floating-point numbers of shape (3, 5, 3).\n",
    "2. Display the shape, size, and datatype of each array"
   ]
  },
  {
   "cell_type": "code",
   "execution_count": 2,
   "id": "a567a1cd",
   "metadata": {},
   "outputs": [],
   "source": [
    "import numpy as np"
   ]
  },
  {
   "cell_type": "code",
   "execution_count": 3,
   "id": "548c6717",
   "metadata": {},
   "outputs": [
    {
     "name": "stdout",
     "output_type": "stream",
     "text": [
      "(10,)\n",
      "10\n",
      "<class 'numpy.ndarray'>\n"
     ]
    },
    {
     "data": {
      "text/plain": [
       "array([ 1,  2,  3,  4,  5,  6,  7,  8,  9, 10])"
      ]
     },
     "execution_count": 3,
     "metadata": {},
     "output_type": "execute_result"
    }
   ],
   "source": [
    "# 1D Numpy array\n",
    "ar1=np.arange(1,11)\n",
    "print(ar1.shape)\n",
    "print(ar1.size)\n",
    "print(type(ar1))\n",
    "ar1"
   ]
  },
  {
   "cell_type": "code",
   "execution_count": 4,
   "id": "f28f1ffb",
   "metadata": {},
   "outputs": [
    {
     "name": "stdout",
     "output_type": "stream",
     "text": [
      "(3, 3)\n",
      "9\n",
      "<class 'numpy.ndarray'>\n"
     ]
    },
    {
     "data": {
      "text/plain": [
       "array([[1, 2, 3],\n",
       "       [4, 5, 6],\n",
       "       [7, 8, 9]])"
      ]
     },
     "execution_count": 4,
     "metadata": {},
     "output_type": "execute_result"
    }
   ],
   "source": [
    "#2D Numpy array\n",
    "ar2=np.arange(1,10).reshape(3,3)\n",
    "print(ar2.shape)\n",
    "print(ar2.size)\n",
    "print(type(ar2))\n",
    "ar2"
   ]
  },
  {
   "cell_type": "code",
   "execution_count": 5,
   "id": "a292095d",
   "metadata": {},
   "outputs": [
    {
     "name": "stdout",
     "output_type": "stream",
     "text": [
      "(3, 5, 3)\n",
      "45\n",
      "<class 'numpy.ndarray'>\n"
     ]
    },
    {
     "data": {
      "text/plain": [
       "array([[[0.14702548, 0.68122367, 0.94980244],\n",
       "        [0.5073726 , 0.88806827, 0.73017404],\n",
       "        [0.41091229, 0.98586645, 0.09048196],\n",
       "        [0.0476595 , 0.44417315, 0.98299032],\n",
       "        [0.16479304, 0.85941109, 0.62670781]],\n",
       "\n",
       "       [[0.30759847, 0.10892307, 0.80522448],\n",
       "        [0.25847078, 0.43697189, 0.47526174],\n",
       "        [0.17787393, 0.56762828, 0.34267266],\n",
       "        [0.23323262, 0.72271566, 0.27913011],\n",
       "        [0.47879952, 0.42441937, 0.13231868]],\n",
       "\n",
       "       [[0.93568419, 0.12054396, 0.61694251],\n",
       "        [0.2742493 , 0.71449255, 0.68110398],\n",
       "        [0.8310702 , 0.52502891, 0.46334556],\n",
       "        [0.96348104, 0.11953371, 0.38773988],\n",
       "        [0.60702853, 0.60491963, 0.60140566]]])"
      ]
     },
     "execution_count": 5,
     "metadata": {},
     "output_type": "execute_result"
    }
   ],
   "source": [
    "# 3D numpy array\n",
    "ar3=np.random.rand(3,5,3)\n",
    "print(ar3.shape)\n",
    "print(ar3.size)\n",
    "print(type(ar3))\n",
    "ar3"
   ]
  },
  {
   "cell_type": "markdown",
   "id": "f6aa85cc",
   "metadata": {},
   "source": [
    "Task 2: Array indexing and slicing"
   ]
  },
  {
   "cell_type": "markdown",
   "id": "9d193f86",
   "metadata": {},
   "source": [
    "\n",
    "1. Create a NumPy array from the following list:\n",
    "-->data = [10, 20, 30, 40, 50, 60, 70, 80, 90]\n",
    "2. Write a Python program to:\n",
    "-->Retrieve the first three elements of the array.\n",
    "-->Retrieve every alternate element of the array.\n",
    "-->Reverse the array.\n",
    "3. Perform the above operations and display the results"
   ]
  },
  {
   "cell_type": "code",
   "execution_count": 6,
   "id": "4aa8bc8f",
   "metadata": {},
   "outputs": [
    {
     "name": "stdout",
     "output_type": "stream",
     "text": [
      "[10 20 30]\n",
      "[10 30 50 70 90]\n",
      "[90 80 70 60 50 40 30 20 10]\n"
     ]
    }
   ],
   "source": [
    "data = [10, 20, 30, 40, 50, 60, 70, 80, 90]\n",
    "list=np.array(data)\n",
    "print(list[0:3])\n",
    "print(list[::2])\n",
    "print(list[::-1])"
   ]
  },
  {
   "cell_type": "markdown",
   "id": "3de03acf",
   "metadata": {},
   "source": [
    "Task 3: Mathematical Operations:-"
   ]
  },
  {
   "cell_type": "markdown",
   "id": "081b5745",
   "metadata": {},
   "source": [
    "\n",
    "1. Create two NumPy arrays, A and B, each with 5 random integers between 1 and 20.\n",
    "\n",
    "2. Write a Python program to:-\n",
    "\n",
    "--> Add, subtract, multiply, and divide the two arrays element-wise.\n",
    "\n",
    "--> Compute the dot product of the arrays.\n",
    "\n",
    "--> Find the mean, median, standard deviation, and variance o--> array A.\n",
    "\n",
    "--> Identify the maximum and minimum values in array B and their indices"
   ]
  },
  {
   "cell_type": "code",
   "execution_count": 8,
   "id": "d2fe9432",
   "metadata": {},
   "outputs": [
    {
     "name": "stdout",
     "output_type": "stream",
     "text": [
      "[14 14  5  7 12]\n",
      "[ 2  8 11 17 12]\n",
      "Addition =  [16 22 16 24 24]\n",
      "Subtraction =  [ 12   6  -6 -10   0]\n",
      "Multiplication =  [ 28 112  55 119 144]\n",
      "Division =  [7.         1.75       0.45454545 0.41176471 1.        ]\n"
     ]
    }
   ],
   "source": [
    "A=np.random.randint(1,20,5)\n",
    "B=np.random.randint(1,20,5)\n",
    "print(A)\n",
    "print(B)\n",
    "add=A+B\n",
    "sub=A-B\n",
    "mul=A*B\n",
    "div=A/B\n",
    "print(\"Addition = \",add)\n",
    "print(\"Subtraction = \",sub)\n",
    "print(\"Multiplication = \",mul)\n",
    "print(\"Division = \",div)"
   ]
  },
  {
   "cell_type": "code",
   "execution_count": 10,
   "id": "61f1754c",
   "metadata": {},
   "outputs": [
    {
     "name": "stdout",
     "output_type": "stream",
     "text": [
      "[ 9 10 13 16  8] [19  6 14  2  9]\n",
      "517\n"
     ]
    }
   ],
   "source": [
    "# dot product of the arrays.\n",
    "A=np.random.randint(1,20,5)\n",
    "B=np.random.randint(1,20,5)\n",
    "print(A,B)\n",
    "dot_pro = np.dot(A, B)\n",
    "# dot_product = A @ B\n",
    "print(dot_pro)"
   ]
  },
  {
   "cell_type": "code",
   "execution_count": 11,
   "id": "32ee3378",
   "metadata": {},
   "outputs": [
    {
     "name": "stdout",
     "output_type": "stream",
     "text": [
      "[10  3  1 14  2]\n",
      "Mean =  6.0\n",
      "Median =  3.0\n",
      "Standard deviation =  5.0990195135927845\n",
      "Varience =  26.0\n"
     ]
    }
   ],
   "source": [
    "# calculating mean, median, standard deviation,\n",
    "#  and variance o--> array A.\n",
    "A=np.random.randint(1,20,5)\n",
    "print(A)\n",
    "print(\"Mean = \",np.mean(A))\n",
    "print(\"Median = \",np.median(A))\n",
    "print(\"Standard deviation = \",np.std(A))\n",
    "print(\"Varience = \",np.var(A))\n"
   ]
  },
  {
   "cell_type": "code",
   "execution_count": 12,
   "id": "e3dd5b1e",
   "metadata": {},
   "outputs": [
    {
     "name": "stdout",
     "output_type": "stream",
     "text": [
      "[11 16  5 16  7]\n",
      "Maximum =  16\n",
      "Minimum =  5\n",
      "Maximum index =  1\n",
      "Minimum index =  2\n"
     ]
    }
   ],
   "source": [
    "# finding maximum and minimum values in array B \n",
    "# and their indices\n",
    "B=np.random.randint(1,20,5)\n",
    "print(B)\n",
    "print(\"Maximum = \",np.max(B))\n",
    "print(\"Minimum = \",np.min(B))\n",
    "print(\"Maximum index = \",np.argmax(B))\n",
    "print(\"Minimum index = \",np.argmin(B))"
   ]
  },
  {
   "cell_type": "markdown",
   "id": "721c5f32",
   "metadata": {},
   "source": [
    "Task 4: Reshaping and Transposing"
   ]
  },
  {
   "cell_type": "markdown",
   "id": "2c1aa5d5",
   "metadata": {},
   "source": [
    "\n",
    "1. Create a 1D NumPy array of 12 integers ranging from 1 to 12.\n",
    "2. Write a Python program to:\n",
    "\n",
    "-->Reshape the array into a 2D array of shape (4, 3).\n",
    "\n",
    "-->Reshape the array into a 3D array of shape (2, 2, 3).\n",
    "\n",
    "-->Transpose the reshaped 2D array and display its shape."
   ]
  },
  {
   "cell_type": "code",
   "execution_count": 13,
   "id": "e60c0f6a",
   "metadata": {},
   "outputs": [
    {
     "name": "stdout",
     "output_type": "stream",
     "text": [
      "[ 1  5 11  5  1  2 10  5  7  9  2  3]\n",
      "2D Array of Size 4 X 3\n",
      "[[ 1  5 11]\n",
      " [ 5  1  2]\n",
      " [10  5  7]\n",
      " [ 9  2  3]]\n",
      "3D Array of Size 2 X 2 X 3  \n",
      "[[[ 1  5 11]\n",
      "  [ 5  1  2]]\n",
      "\n",
      " [[10  5  7]\n",
      "  [ 9  2  3]]]\n",
      "Transpose of 2D Array\n",
      "[[ 1  5 10  9]\n",
      " [ 5  1  5  2]\n",
      " [11  2  7  3]]\n",
      "Transpose of 2D Array and its shape\n",
      "(3, 4)\n"
     ]
    }
   ],
   "source": [
    "list=np.random.randint(1,12,12)\n",
    "print(list)\n",
    "print(\"2D Array of Size 4 X 3\")\n",
    "print(list.reshape(4,3))\n",
    "print(\"3D Array of Size 2 X 2 X 3  \")\n",
    "print(list.reshape(2,2,3))\n",
    "print(\"Transpose of 2D Array\")\n",
    "print(np.transpose(list.reshape(4,3)))\n",
    "print(\"Transpose of 2D Array and its shape\")\n",
    "print(np.transpose(list.reshape(4,3)).shape)"
   ]
  },
  {
   "cell_type": "markdown",
   "id": "220a0de1",
   "metadata": {},
   "source": [
    "Task 5: Boolean Masking and Filtering:-"
   ]
  },
  {
   "cell_type": "markdown",
   "id": "e96db52e",
   "metadata": {},
   "source": [
    "\n",
    "1. Create a NumPy array with 15 random integers between 10 and 50.\n",
    "2. Write a Python program to:\n",
    "\n",
    "-->Find all elements greater than 25.\n",
    "\n",
    "-->Replace all elements less than 30 with 0.\n",
    "\n",
    "-->Count the number of elements divisible by 5."
   ]
  },
  {
   "cell_type": "code",
   "execution_count": 14,
   "id": "d036e25d",
   "metadata": {},
   "outputs": [
    {
     "name": "stdout",
     "output_type": "stream",
     "text": [
      "[45 20 29 19 14 19 49 15 38 36 25 38 34 31 26]\n",
      "Numbers Greater than 25 :\n",
      "[45 29 49 38 36 38 34 31 26]\n",
      "Replacing all elements less than 30 with 0 :\n",
      "[45  0  0  0  0  0 49  0 38 36  0 38 34 31  0]\n",
      "number of nonZero elements divisible by 5 :\n",
      "1\n",
      "number of  elements divisible by 5 :\n",
      "9\n"
     ]
    }
   ],
   "source": [
    "list=np.random.randint(10,50,15)\n",
    "print(list)\n",
    "print(\"Numbers Greater than 25 :\")\n",
    "print(list[list>25])\n",
    "print(\"Replacing all elements less than 30 with 0 :\")\n",
    "list[list<30]=0\n",
    "print(list)\n",
    "print(\"number of nonZero elements divisible by 5 :\")\n",
    "print(np.count_nonzero(list[list%5==0]))\n",
    "print(\"number of  elements divisible by 5 :\")\n",
    "print(np.count_nonzero(list%5==0))"
   ]
  },
  {
   "cell_type": "markdown",
   "id": "674e29f0",
   "metadata": {},
   "source": [
    "Task 6: Working with Built-in Functions:-"
   ]
  },
  {
   "cell_type": "markdown",
   "id": "942d25dc",
   "metadata": {},
   "source": [
    "\n",
    "1. Use NumPy's built-in functions to:\n",
    "\n",
    "-->Create an array of 10 equally spaced values between 0 and 1.\n",
    "\n",
    "-->Create an identity matrix of size 4x4.\n",
    "\n",
    "-->Generate a 1D array of 20 random integers between 1 and 100, sort it, and find the 5 largest elements."
   ]
  },
  {
   "cell_type": "code",
   "execution_count": 16,
   "id": "4adf1e58",
   "metadata": {},
   "outputs": [
    {
     "name": "stdout",
     "output_type": "stream",
     "text": [
      "[0.         0.11111111 0.22222222 0.33333333 0.44444444 0.55555556\n",
      " 0.66666667 0.77777778 0.88888889 1.        ]\n"
     ]
    }
   ],
   "source": [
    "# Create an array of 10 equally spaced values between 0 and 1.\n",
    "list=np.linspace(0,1,10)\n",
    "print(list)"
   ]
  },
  {
   "cell_type": "code",
   "execution_count": 17,
   "id": "e08ec01d",
   "metadata": {},
   "outputs": [
    {
     "name": "stdout",
     "output_type": "stream",
     "text": [
      "[[1 0 0 0]\n",
      " [0 1 0 0]\n",
      " [0 0 1 0]\n",
      " [0 0 0 1]]\n"
     ]
    }
   ],
   "source": [
    "# Create an identity matrix of size 4x4.\n",
    "print(np.eye(4,dtype=\"int\"))"
   ]
  },
  {
   "cell_type": "code",
   "execution_count": 18,
   "id": "31abe482",
   "metadata": {},
   "outputs": [
    {
     "name": "stdout",
     "output_type": "stream",
     "text": [
      "Original Array : \n",
      "[39 80 72 70 24 37  9 25 90 15 69 95  6 56 31 89 80 97 12 82]\n",
      "Sorted Array : \n",
      "[ 6  9 12 15 24 25 31 37 39 56 69 70 72 80 80 82 89 90 95 97]\n",
      "5 largest elements : \n",
      "[97 95 90 89 82]\n"
     ]
    }
   ],
   "source": [
    "# Generate a 1D array of 20 random integers between 1 and 100,\n",
    "# sorting it, and find the 5 largest elements.\n",
    "\n",
    "list=np.random.randint(1,100,20)\n",
    "print(\"Original Array : \")\n",
    "print(list)\n",
    "print(\"Sorted Array : \")\n",
    "print(np.sort(list))\n",
    "print(\"5 largest elements : \")\n",
    "print(np.sort(list)[-5:][::-1])"
   ]
  },
  {
   "cell_type": "markdown",
   "id": "5b523e46",
   "metadata": {},
   "source": [
    "Task 7: Generic:-"
   ]
  },
  {
   "cell_type": "markdown",
   "id": "28c3a38a",
   "metadata": {},
   "source": [
    "\n",
    "1. Create a Python program that:\n",
    "\n",
    "-->Generates two large random arrays of size (100, 100).\n",
    "\n",
    "-->Performs matrix multiplication on the two arrays.\n",
    "\n",
    "-->Finds the determinant and inverse of the resulting matrix (if possible).\n",
    "\n",
    "-->Measures the time taken to complete these operations."
   ]
  },
  {
   "cell_type": "code",
   "execution_count": 19,
   "id": "bad3dd62",
   "metadata": {},
   "outputs": [
    {
     "name": "stdout",
     "output_type": "stream",
     "text": [
      "Operation Start time :1752350785.2790954 \n",
      "\n",
      "Matrices multiplied \n",
      "\n",
      "[[24.95781535 22.67312686 22.30560781 ... 25.85287136 25.79168631\n",
      "  25.49284486]\n",
      " [28.9713515  26.13097499 23.95743275 ... 26.96274293 28.20406996\n",
      "  28.31350936]\n",
      " [27.16471886 24.46075147 24.57637286 ... 25.00382232 25.18113841\n",
      "  28.07396943]\n",
      " ...\n",
      " [25.47712708 24.03357371 21.03690321 ... 23.97195704 25.50436056\n",
      "  23.58736258]\n",
      " [25.65949981 21.5668706  24.26338498 ... 24.61035213 24.42720757\n",
      "  25.73815721]\n",
      " [31.36572816 27.36194492 26.57749939 ... 27.93004642 31.88327633\n",
      "  31.18186768]]\n",
      "Determinant of the result: -1.1575551192689852e+51 \n",
      "Operation end time :1752350785.3429577 \n",
      "Matrix is invertible.\n",
      "Inverse matrix calculated successfully.\n",
      "[[-2.28756162  4.14976474 -4.85160775 ... -6.24985428  2.71035096\n",
      "  -0.02490012]\n",
      " [-0.83661477  4.12599817 -3.49133425 ... -3.54344258  1.06462964\n",
      "   2.36624712]\n",
      " [ 1.06534256 -4.06381986  3.25343592 ...  4.32251494 -1.5316735\n",
      "  -0.88211814]\n",
      " ...\n",
      " [-2.90245051  4.86615179 -4.95562802 ... -6.71611334  2.67720685\n",
      "   1.37273005]\n",
      " [ 1.72924786 -4.32309286  4.02707198 ...  4.39717605 -1.80300787\n",
      "  -1.71908213]\n",
      " [ 0.55866233 -1.75332556  2.64738097 ...  1.77361762 -0.18560674\n",
      "  -1.37590079]]\n",
      "Time taken: 0.0639 seconds\n"
     ]
    }
   ],
   "source": [
    "import time\n",
    "\n",
    "# two random 100x100 arrays\n",
    "A = np.random.rand(100, 100)\n",
    "B = np.random.rand(100, 100)\n",
    "\n",
    "# starting the timer\n",
    "start = time.time()\n",
    "print(f\"Operation Start time :{start} \\n\")\n",
    "\n",
    "# multiplying the matrices\n",
    "C = np.dot(A, B)\n",
    "print(\"Matrices multiplied \\n\")\n",
    "print(C)\n",
    "\n",
    "# determinant\n",
    "det_C = np.linalg.det(C)\n",
    "print(f\"Determinant of the result: {det_C} \")\n",
    "\n",
    "\n",
    "# calculating inverse if determinant is not zero\n",
    "if np.isclose(det_C, 0):\n",
    "    inverse_C = None\n",
    "    invert = False\n",
    "else:\n",
    "    inverse_C = np.linalg.inv(C)\n",
    "    invert = True\n",
    "\n",
    "# timer ended\n",
    "end = time.time()\n",
    "print(f\"Operation end time :{end} \")\n",
    "\n",
    "elapsed_time = end - start\n",
    "\n",
    "print(\"Matrix is invertible.\" if invert else \"Matrix is not invertible.\")\n",
    "if invert:\n",
    "    print(\"Inverse matrix calculated successfully.\")\n",
    "    print(inverse_C)\n",
    "print(f\"Time taken: {elapsed_time:.4f} seconds\")\n"
   ]
  },
  {
   "cell_type": "code",
   "execution_count": null,
   "id": "4098c689",
   "metadata": {},
   "outputs": [],
   "source": []
  },
  {
   "cell_type": "code",
   "execution_count": null,
   "id": "8442b815",
   "metadata": {},
   "outputs": [],
   "source": []
  }
 ],
 "metadata": {
  "kernelspec": {
   "display_name": "Python 3",
   "language": "python",
   "name": "python3"
  },
  "language_info": {
   "codemirror_mode": {
    "name": "ipython",
    "version": 3
   },
   "file_extension": ".py",
   "mimetype": "text/x-python",
   "name": "python",
   "nbconvert_exporter": "python",
   "pygments_lexer": "ipython3",
   "version": "3.12.3"
  }
 },
 "nbformat": 4,
 "nbformat_minor": 5
}
